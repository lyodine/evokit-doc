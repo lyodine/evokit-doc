{
 "cells": [
  {
   "cell_type": "markdown",
   "metadata": {},
   "source": [
    "# Getting Started with OneMax\n",
    "\n",
    "This tutorial explains how to implement custom representations. It implements the following components:\n",
    "\n",
    "- [Representation](#Representation) implements the binary string representation as a custom `Individual`.\n",
    "\n",
    "- [Variator](#Variator) implements the random bit mutator, an operator that modifies each bit of the binary string with a fixed probability, as a custom `Variator`.\n",
    "\n",
    "- [Evaluator](#Evaluator) implements the bit distance evaluator, which sums all bits of a bit string, as a custom `Evaluator`.\n",
    "\n",
    "- [Put Everything Together](#Put-Everything-Together) demonstrates the workflow using the operators defined above, as well as a stock selector."
   ]
  },
  {
   "cell_type": "markdown",
   "metadata": {},
   "source": [
    "## Representation\n",
    "\n",
    "All custom representations must derive `evokit.core.population.Individual`.\n",
    "\n",
    "At minimum, the implementation must do the following:\n",
    "    \n",
    "1. Initialise attribute `.genome` to store the representation.\n",
    "\n",
    "3. Override method `.copy` to return an independent copy.\n",
    "\n",
    "The implementation must decide how to initialise new individuals. In this example, the class `BinaryString` implements a factory method `BinaryString.random`, which creates a uniformly random bit string of a certain length."
   ]
  },
  {
   "cell_type": "code",
   "execution_count": 1,
   "metadata": {},
   "outputs": [],
   "source": [
    "from __future__ import annotations\n",
    "from typing import List, Self\n",
    "from typing import override"
   ]
  },
  {
   "cell_type": "code",
   "execution_count": 2,
   "metadata": {},
   "outputs": [],
   "source": [
    "from random import getrandbits\n",
    "from evokit.core import Individual\n",
    "\n",
    "class BinaryString(Individual[list[int]]):\n",
    "    @override\n",
    "    def __init__(self, value: list[int]) -> None:\n",
    "        \"\"\"Required.\n",
    "\n",
    "        Initialise the genome.\n",
    "        \"\"\"\n",
    "        self.genome: list[int] = value\n",
    "\n",
    "    @override\n",
    "    def copy(self: Self) -> Self:\n",
    "        \"\"\"Required.\n",
    "        \n",
    "        Ensure that operations performed on\n",
    "        a copy do not affect to the original individual.\n",
    "        \"\"\"\n",
    "        return type(self)(self.genome.copy())\n",
    "\n",
    "    @staticmethod\n",
    "    def random(len: int) -> BinaryString:\n",
    "        \"\"\"Not required.\n",
    "        \n",
    "        Initialise a random individual.\n",
    "        \"\"\"\n",
    "        return BinaryString(\n",
    "            (len * [0] +\n",
    "                [int(digit)\n",
    "                 for digit in bin(getrandbits(len))[2:]])[-len:]\n",
    "        )\n",
    "\n",
    "    @override\n",
    "    def __str__(self: Self) -> str:\n",
    "        \"\"\"Not required.\n",
    "        \n",
    "        Return a text representation of the individual.\n",
    "        \"\"\"\n",
    "        return str(self.genome)"
   ]
  },
  {
   "cell_type": "markdown",
   "metadata": {},
   "source": [
    "## Variator\n",
    "\n",
    "All custom variators must derive `evokit.core.variator.Variator`.\n",
    "\n",
    "At minimum, the implementation must do the following:\n",
    "    \n",
    "1. Initialise attribute `.arity` to specify how many parents are passed to `.vary`.\n",
    "\n",
    "2. Override method `.vary` to specify how to create new individuals from existing ones.\n",
    "   Be sure to call `.copy` before making changes to an existing individual.\n",
    "\n",
    "3. Optionally, initialise attribute `.coarity` to report how many individuals are returned by `.vary`. This attribute is informational: no part of the core framework uses it. Leave it as `None` if the variator can return a variable number of individuals.\n",
    "\n",
    "In this example, `.vary` receives an 1-tuple because `.arity=2`. It returns a 2-tuple including the original individual and its offspring, which is reflected by `.coarity=2`."
   ]
  },
  {
   "cell_type": "code",
   "execution_count": 3,
   "metadata": {},
   "outputs": [],
   "source": [
    "from random import random\n",
    "from typing import Sequence\n",
    "\n",
    "from evokit.core import Variator\n",
    "\n",
    "class RandomBitMutator(Variator[BinaryString]):\n",
    "    @override\n",
    "    def __init__(self, mutation_rate: float):\n",
    "        self.arity = 1\n",
    "        self.coarity = 1\n",
    "\n",
    "        # Not required. Raise an error if the mutation rate is too big or small.\n",
    "        if (mutation_rate < 0 or mutation_rate > 1):\n",
    "            raise ValueError(f\"Mutation rate must be within {0} and {1}.\"\n",
    "                             f\"Got: {mutation_rate}\")\n",
    "        \n",
    "        # The mutation rates is a parameter of the variator.\n",
    "        self.mutation_rate = mutation_rate\n",
    "    \n",
    "    @override\n",
    "    def vary(self, parents: Sequence[BinaryString]) -> tuple[BinaryString]:\n",
    "        \"\"\"Required.\n",
    "\n",
    "        Produce new individuals from existing ones.\n",
    "        \n",
    "        Because `.arity=1` in the initialiser, `parents` will be a 1-tuple at runtime.\n",
    "        \"\"\"\n",
    "        offspring = parents[0].copy()\n",
    "\n",
    "        for i in range(0, len(offspring.genome)):\n",
    "            if (random() < self.mutation_rate):\n",
    "                offspring.genome[i] = 1 if offspring.genome[i] == 0 else 1\n",
    "\n",
    "        return (offspring, parents[0].copy())"
   ]
  },
  {
   "cell_type": "markdown",
   "metadata": {},
   "source": [
    "# Evaluator\n",
    "\n",
    "All custom evaluators must derive `evokit.core.evaluator.Evaluator`.\n",
    "\n",
    "At minimum, the implementation must override the method `.evaluate`. This method should take one individual of the correct type, then return its fitness(es) in a tuple.\n",
    "\n",
    "In this example, `.evaluate` returns a 1-tuple because it uses only one measure of fitness. The method sums all bits in the `.genome` of a `BinaryString`."
   ]
  },
  {
   "cell_type": "code",
   "execution_count": 4,
   "metadata": {},
   "outputs": [],
   "source": [
    "from evokit.core import Evaluator\n",
    "from typing import override\n",
    "\n",
    "class BitDistanceEvaluator(Evaluator[BinaryString]):\n",
    "    @override\n",
    "    def evaluate(self, s1: BinaryString) -> float:\n",
    "        return sum(s1.genome)"
   ]
  },
  {
   "cell_type": "markdown",
   "metadata": {},
   "source": [
    "## Put Everything Together\n",
    "\n",
    "An evolutionary algorithm uses operators: evaluators, selectors, and variators. The algorithm should initialise with a population of individuals. These components, except for the selector and the algorithm itself, are already defined.\n",
    "\n",
    "Because selectors and algorithms are independent to the representation, the framework provides generic ones. These components can be found in `evokit.evolvables.selectors` and `evokit.evolvables.algorithms`.\n",
    "\n",
    "This example use an elitist (hall-of-fame) truncation selector, by combining the `Elitist` [interceptor](./interceptor.ipynb) and `core.selector.TruncationSelector`. The algorithm is a `SimpleLinearAlgorithm` which applies operators in this order:\n",
    "\n",
    "  1. **evaluate** for selection\n",
    "  2. **selection**\n",
    "  3. *update population*\n",
    "  4. **vary** parents\n",
    "  5. *update population*"
   ]
  },
  {
   "cell_type": "code",
   "execution_count": 5,
   "metadata": {},
   "outputs": [],
   "source": [
    "from evokit.evolvables.selectors import Elitist, TruncationSelector\n",
    "\n",
    "from evokit.evolvables.algorithms import SimpleLinearAlgorithm"
   ]
  },
  {
   "cell_type": "markdown",
   "metadata": {},
   "source": [
    "### Initialise Population\n",
    "\n",
    "Create a number of `BinaryString` instances, then store them in a `Population`. This is the initial population."
   ]
  },
  {
   "cell_type": "code",
   "execution_count": 6,
   "metadata": {},
   "outputs": [],
   "source": [
    "from evokit.core import Population\n",
    "\n",
    "BINSTRING_LENGTH: int = 1000\n",
    "POPULATION_SIZE: int = 20\n",
    "GENERATION_COUNT: int = 100\n",
    "init_pop = Population[BinaryString]()\n",
    "\n",
    "for i in range(0, POPULATION_SIZE):\n",
    "    init_pop.append(BinaryString.random(BINSTRING_LENGTH))"
   ]
  },
  {
   "cell_type": "markdown",
   "metadata": {},
   "source": [
    "### Define the Algorithm\n",
    "\n",
    "Initialise operators, then initialise the algorithm with these operators."
   ]
  },
  {
   "cell_type": "code",
   "execution_count": 7,
   "metadata": {},
   "outputs": [],
   "source": [
    "ctrl: SimpleLinearAlgorithm = SimpleLinearAlgorithm(\n",
    "    population=init_pop,\n",
    "    variator=RandomBitMutator(0.1),\n",
    "    selector=Elitist(TruncationSelector[BinaryString](POPULATION_SIZE)),\n",
    "    evaluator = BitDistanceEvaluator()\n",
    ")"
   ]
  },
  {
   "cell_type": "markdown",
   "metadata": {},
   "source": [
    "### Run the Algorithm\n",
    "\n",
    "Run the algorithm, then retain the best individual of each generation. Remember to call `copy`, so that operation on the individual in the population do not affect the retained copy."
   ]
  },
  {
   "cell_type": "code",
   "execution_count": 8,
   "metadata": {},
   "outputs": [],
   "source": [
    "bests: list[BinaryString] = []\n",
    "\n",
    "for _ in range(GENERATION_COUNT):\n",
    "    ctrl.step()\n",
    "    bests.append(ctrl.population.best().copy())"
   ]
  },
  {
   "cell_type": "markdown",
   "metadata": {},
   "source": [
    "### Analyse Results\n",
    "\n",
    "Visualise best individuals of the first and last generations, note the difference."
   ]
  },
  {
   "cell_type": "code",
   "execution_count": 9,
   "metadata": {},
   "outputs": [
    {
     "name": "stdout",
     "output_type": "stream",
     "text": [
      "Best individual of the first generation is [1, 1, 1, 0, 1, 0, 0, 1, 1, 1, 1, 1, 1, 1, 0, 0, 0, 1, 1, 0, 1, 1, 1, 1, 1, 1, 1, 1, 1, 0, 1, 1, 1, 0, 0, 1, 1, 1, 0, 0, 1, 1, 0, 1, 1, 1, 1, 0, 0, 1, 1, 1, 1, 1, 1, 1, 1, 1, 0, 1, 1, 1, 0, 1, 0, 1, 0, 1, 1, 0, 1, 0, 0, 0, 1, 0, 0, 0, 1, 1, 0, 0, 1, 1, 0, 0, 0, 0, 1, 0, 0, 0, 1, 0, 1, 0, 1, 0, 1, 0, 0, 1, 1, 1, 1, 1, 1, 1, 1, 1, 1, 1, 1, 1, 1, 1, 1, 1, 0, 1, 0, 0, 0, 1, 1, 0, 1, 1, 0, 1, 1, 0, 0, 1, 0, 0, 0, 0, 0, 0, 0, 0, 0, 1, 0, 0, 0, 1, 0, 0, 1, 1, 1, 0, 1, 1, 1, 0, 0, 0, 0, 0, 1, 0, 1, 1, 1, 0, 0, 0, 0, 1, 0, 0, 0, 0, 1, 1, 0, 1, 1, 1, 1, 1, 1, 0, 1, 0, 1, 0, 0, 1, 0, 1, 1, 0, 1, 0, 0, 0, 0, 1, 0, 0, 0, 1, 0, 1, 0, 1, 0, 1, 1, 1, 1, 1, 1, 0, 1, 0, 0, 0, 0, 1, 1, 1, 1, 1, 1, 1, 1, 0, 1, 0, 1, 0, 1, 1, 0, 1, 0, 1, 0, 1, 1, 0, 0, 0, 1, 1, 0, 0, 1, 0, 1, 1, 1, 1, 1, 0, 1, 0, 1, 0, 0, 0, 0, 1, 0, 1, 0, 0, 0, 1, 1, 1, 1, 1, 1, 1, 0, 0, 0, 1, 0, 0, 1, 0, 1, 1, 1, 1, 0, 0, 1, 0, 1, 0, 1, 1, 1, 1, 1, 1, 1, 0, 1, 0, 1, 1, 1, 1, 1, 0, 1, 1, 1, 1, 0, 0, 0, 1, 1, 1, 0, 0, 1, 1, 1, 1, 1, 1, 1, 1, 1, 0, 1, 0, 1, 0, 0, 1, 1, 1, 1, 1, 1, 1, 0, 0, 0, 0, 1, 1, 1, 0, 1, 0, 1, 1, 0, 0, 1, 1, 0, 1, 0, 1, 1, 1, 1, 1, 0, 1, 0, 1, 1, 0, 1, 0, 1, 1, 1, 1, 0, 1, 0, 0, 1, 1, 1, 1, 1, 0, 1, 0, 1, 1, 1, 0, 1, 1, 1, 0, 0, 1, 1, 0, 1, 1, 1, 0, 0, 1, 0, 1, 0, 0, 0, 1, 0, 0, 1, 1, 1, 1, 1, 0, 1, 1, 0, 1, 1, 1, 1, 1, 0, 0, 1, 1, 1, 0, 0, 0, 1, 1, 1, 0, 0, 1, 0, 1, 0, 1, 1, 0, 1, 0, 1, 1, 1, 1, 1, 1, 1, 0, 0, 0, 1, 1, 1, 1, 1, 1, 1, 0, 1, 1, 1, 0, 1, 0, 0, 1, 1, 1, 1, 1, 0, 0, 1, 0, 0, 0, 0, 1, 0, 0, 1, 1, 1, 1, 1, 1, 0, 1, 1, 0, 1, 0, 1, 0, 0, 1, 1, 0, 0, 0, 0, 1, 1, 0, 0, 0, 0, 1, 1, 1, 1, 1, 0, 0, 0, 1, 1, 1, 0, 1, 1, 0, 0, 0, 1, 0, 1, 1, 0, 0, 0, 1, 0, 0, 1, 0, 1, 0, 0, 1, 1, 1, 0, 1, 0, 1, 1, 1, 1, 1, 0, 0, 0, 1, 0, 1, 0, 0, 1, 1, 1, 1, 0, 1, 0, 0, 1, 0, 1, 1, 0, 1, 0, 1, 1, 0, 1, 1, 1, 0, 1, 0, 0, 1, 0, 1, 0, 1, 1, 0, 1, 0, 0, 1, 0, 1, 1, 1, 0, 1, 0, 1, 0, 0, 0, 0, 1, 0, 1, 1, 1, 0, 0, 1, 0, 1, 0, 1, 1, 1, 1, 1, 1, 0, 0, 1, 1, 0, 1, 0, 1, 1, 1, 1, 1, 1, 1, 1, 0, 1, 0, 0, 0, 0, 1, 0, 0, 1, 0, 0, 0, 0, 1, 0, 1, 1, 0, 0, 1, 0, 1, 0, 1, 1, 1, 0, 1, 1, 0, 0, 1, 0, 0, 0, 1, 1, 1, 1, 1, 1, 1, 0, 1, 1, 1, 1, 1, 1, 1, 1, 1, 0, 0, 1, 1, 1, 0, 1, 0, 1, 1, 1, 1, 1, 1, 1, 0, 0, 1, 0, 0, 1, 1, 1, 1, 0, 1, 1, 1, 0, 0, 1, 1, 0, 0, 0, 0, 1, 1, 1, 1, 1, 1, 1, 1, 1, 1, 0, 1, 0, 0, 1, 1, 0, 0, 1, 1, 0, 1, 0, 1, 0, 0, 0, 0, 1, 1, 1, 0, 0, 1, 0, 1, 1, 0, 1, 0, 1, 1, 0, 1, 1, 0, 1, 0, 1, 0, 1, 1, 1, 1, 1, 1, 0, 0, 0, 1, 0, 0, 0, 1, 0, 1, 0, 0, 1, 1, 1, 1, 1, 1, 0, 0, 0, 1, 1, 0, 0, 1, 1, 1, 1, 1, 0, 1, 0, 1, 0, 0, 0, 0, 0, 0, 0, 1, 0, 1, 1, 1, 1, 1, 1, 1, 1, 1, 0, 1, 0, 1, 0, 0, 0, 0, 1, 1, 1, 0, 0, 0, 1, 1, 0, 0, 0, 0, 0, 1, 1, 0, 1, 0, 0, 1, 1, 0, 1, 0, 1, 1, 1, 0, 1, 0, 0, 0, 1, 1, 1, 1, 0, 1, 1, 0, 0, 0, 1, 0, 1, 1, 1, 0, 0, 0, 0, 1, 0, 1, 0, 1, 1, 0, 1, 1, 1, 1, 0, 0, 0, 0, 0, 1, 1, 1, 1, 0, 1, 0, 0, 1, 0, 0, 0, 0, 0, 0, 1, 0, 0, 0, 1, 1, 0, 1, 0, 1, 1, 0, 1, 0, 1, 0, 1, 1, 0, 0, 1, 1, 1, 1, 0, 1, 1, 1, 1, 0, 1, 0, 1, 1, 0, 0, 0, 0, 1, 0, 1, 0, 1, 1, 1, 1, 1, 1, 0, 0, 1, 1, 0, 1, 1, 1, 0]\n",
      "    with fitness 576\n",
      "Best individual of the last generation is [1, 1, 1, 1, 1, 1, 1, 1, 1, 1, 1, 1, 1, 1, 1, 1, 1, 1, 1, 1, 1, 1, 1, 1, 1, 1, 1, 1, 1, 1, 1, 1, 1, 1, 1, 1, 1, 1, 1, 1, 1, 1, 1, 1, 1, 1, 1, 1, 1, 1, 1, 1, 1, 1, 1, 1, 1, 1, 1, 1, 1, 1, 1, 1, 1, 1, 1, 1, 1, 1, 1, 1, 1, 1, 1, 1, 1, 1, 1, 1, 1, 1, 1, 1, 1, 1, 1, 1, 1, 1, 1, 1, 1, 1, 1, 1, 1, 1, 1, 1, 1, 1, 1, 1, 1, 1, 1, 1, 1, 1, 1, 1, 1, 1, 1, 1, 1, 1, 1, 1, 1, 1, 1, 1, 1, 1, 1, 1, 1, 1, 1, 1, 1, 1, 1, 1, 1, 1, 1, 1, 1, 1, 1, 1, 1, 1, 1, 1, 1, 1, 1, 1, 1, 1, 1, 1, 1, 1, 1, 1, 1, 1, 1, 1, 1, 1, 1, 1, 1, 1, 1, 1, 1, 1, 1, 1, 1, 1, 1, 1, 1, 1, 1, 1, 1, 1, 1, 1, 1, 1, 1, 1, 1, 1, 1, 1, 1, 1, 1, 1, 1, 1, 1, 1, 1, 1, 1, 1, 1, 1, 1, 1, 1, 1, 1, 1, 1, 1, 1, 1, 1, 1, 1, 1, 1, 1, 1, 1, 1, 1, 1, 1, 1, 1, 1, 1, 1, 1, 1, 1, 1, 1, 1, 1, 1, 1, 1, 1, 1, 1, 1, 1, 1, 1, 1, 1, 1, 1, 1, 1, 1, 1, 1, 1, 1, 1, 1, 1, 1, 1, 1, 1, 1, 1, 1, 1, 1, 1, 1, 1, 1, 1, 1, 1, 1, 1, 1, 1, 1, 1, 1, 1, 1, 1, 1, 1, 1, 1, 1, 1, 1, 1, 1, 1, 1, 1, 1, 1, 1, 1, 1, 1, 1, 1, 1, 1, 1, 1, 1, 1, 1, 1, 1, 1, 1, 1, 1, 1, 1, 1, 1, 1, 1, 1, 1, 1, 1, 1, 1, 1, 1, 1, 1, 1, 1, 1, 1, 1, 1, 1, 1, 1, 1, 1, 1, 1, 1, 1, 1, 1, 1, 1, 1, 1, 1, 1, 1, 1, 1, 1, 1, 1, 1, 1, 1, 1, 1, 1, 1, 1, 1, 1, 1, 1, 1, 1, 1, 1, 1, 1, 1, 1, 1, 1, 1, 1, 1, 1, 1, 1, 1, 1, 1, 1, 1, 1, 1, 1, 1, 1, 1, 1, 1, 1, 1, 1, 1, 1, 1, 1, 1, 1, 1, 1, 1, 1, 1, 1, 1, 1, 1, 1, 1, 1, 1, 1, 1, 1, 1, 1, 1, 1, 1, 1, 1, 1, 1, 1, 1, 1, 1, 1, 1, 1, 1, 1, 1, 1, 1, 1, 1, 1, 1, 1, 1, 1, 1, 1, 1, 1, 1, 1, 1, 1, 1, 1, 1, 1, 1, 1, 1, 1, 1, 1, 1, 1, 1, 1, 1, 1, 1, 1, 1, 1, 1, 1, 1, 1, 1, 1, 1, 1, 1, 1, 1, 1, 1, 1, 1, 1, 1, 1, 1, 1, 1, 1, 1, 1, 1, 1, 1, 1, 1, 1, 1, 1, 1, 1, 1, 1, 1, 1, 1, 1, 1, 1, 1, 1, 1, 1, 1, 1, 1, 1, 1, 1, 1, 1, 1, 1, 1, 1, 1, 1, 1, 1, 1, 1, 1, 1, 1, 1, 1, 1, 1, 1, 1, 1, 1, 1, 1, 1, 1, 1, 1, 1, 1, 1, 1, 1, 1, 1, 1, 1, 1, 1, 1, 1, 1, 1, 1, 1, 1, 1, 1, 1, 1, 1, 1, 1, 1, 1, 1, 1, 1, 1, 1, 1, 1, 1, 1, 1, 1, 1, 1, 1, 1, 1, 1, 1, 1, 1, 1, 1, 1, 1, 1, 1, 1, 1, 1, 1, 1, 1, 1, 1, 1, 1, 1, 1, 1, 1, 1, 1, 1, 1, 1, 1, 1, 1, 1, 1, 1, 1, 1, 1, 1, 1, 1, 1, 1, 1, 1, 1, 1, 1, 1, 1, 1, 1, 1, 1, 1, 1, 1, 1, 1, 1, 1, 1, 1, 1, 1, 1, 1, 1, 1, 1, 1, 1, 1, 1, 1, 1, 1, 1, 1, 1, 1, 1, 1, 1, 1, 1, 1, 1, 1, 1, 1, 1, 1, 1, 1, 1, 1, 1, 1, 1, 1, 1, 1, 1, 1, 1, 1, 1, 1, 1, 1, 1, 1, 1, 1, 1, 1, 1, 1, 1, 1, 1, 1, 1, 1, 1, 1, 1, 1, 1, 1, 1, 1, 1, 1, 1, 1, 1, 1, 1, 1, 1, 1, 1, 1, 1, 1, 1, 1, 1, 1, 1, 1, 1, 1, 1, 1, 1, 1, 1, 1, 1, 1, 1, 1, 1, 1, 1, 1, 1, 1, 1, 1, 1, 1, 1, 1, 1, 1, 1, 1, 1, 1, 1, 1, 1, 1, 1, 1, 1, 1, 1, 1, 1, 1, 1, 1, 1, 1, 1, 1, 1, 1, 1, 1, 1, 1, 1, 1, 1, 1, 1, 1, 1, 1, 1, 1, 1, 1, 1, 1, 1, 1, 1, 1, 1, 1, 1, 1, 1, 1, 1, 1, 1, 1, 1, 1, 1, 1, 1, 1, 1, 1, 1, 1, 1, 1, 1, 1, 1, 1, 1, 1, 1, 1, 1, 1, 1, 1, 1, 1, 1, 1, 1, 1, 1, 1, 1, 1, 1, 1, 1, 1, 1, 1, 1, 1, 1, 1, 1, 1, 1, 1, 1, 1, 1, 1, 1, 1, 1, 1, 1, 1, 1, 1, 1, 1, 1, 1, 1, 1, 1, 1, 1, 1, 1, 1, 1, 1, 1, 1, 1, 1, 1, 1, 1, 1, 1, 1, 1, 1, 1, 1, 1, 1, 1, 1, 1, 1, 1, 1, 1, 1, 1, 1, 1, 1, 1, 1, 1, 1, 1, 1, 1, 1, 1, 1, 1, 1, 1, 1, 1, 1, 1, 1, 1, 1, 1, 1, 1, 1, 1, 1, 1, 1, 1, 1, 1, 1, 1, 1, 1, 1, 1, 1, 1, 1, 1, 1, 1, 1, 1]\n",
      "    with fitness 1000\n"
     ]
    }
   ],
   "source": [
    "print(f\"Best individual of the first generation is {bests[0]}\")\n",
    "print(f\"    with fitness {sum(bests[0].genome)}\")\n",
    "print(f\"Best individual of the last generation is {bests[-1]}\")\n",
    "print(f\"    with fitness {sum(bests[-1].genome)}\")"
   ]
  },
  {
   "cell_type": "markdown",
   "metadata": {},
   "source": [
    "Observe the training curve, and note that the increase in fitness slows down near convergence."
   ]
  },
  {
   "cell_type": "code",
   "execution_count": 10,
   "metadata": {},
   "outputs": [
    {
     "data": {
      "image/png": "[encoded data removed]",
      "text/plain": [
       "<Figure size 640x480 with 1 Axes>"
      ]
     },
     "metadata": {},
     "output_type": "display_data"
    }
   ],
   "source": [
    "from matplotlib import pyplot as plt\n",
    "\n",
    "plt.title('Training Curve of the Custom Algorithm')\n",
    "plt.xlabel('Generation')\n",
    "plt.ylabel('Fitness of Best Individual')\n",
    "plt.plot([i for i in range(len(bests))], [sum(x.genome) for x in bests])\n",
    "plt.show()"
   ]
  }
 ],
 "metadata": {
  "kernelspec": {
   "display_name": "Python 3",
   "language": "python",
   "name": "python3"
  },
  "language_info": {
   "codemirror_mode": {
    "name": "ipython",
    "version": 3
   },
   "file_extension": ".py",
   "mimetype": "text/x-python",
   "name": "python",
   "nbconvert_exporter": "python",
   "pygments_lexer": "ipython3",
   "version": "3.12.0"
  }
 },
 "nbformat": 4,
 "nbformat_minor": 2
}
