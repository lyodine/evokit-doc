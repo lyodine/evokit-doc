{
 "cells": [
  {
   "cell_type": "markdown",
   "metadata": {},
   "source": [
    "# Making a Custom Algorithm"
   ]
  },
  {
   "cell_type": "markdown",
   "metadata": {},
   "source": [
    "In EvoKit, an algorithm combines operators to perform the training process.\n",
    "\n",
    "This example defines an $(\\mu+\\lambda)$ algorithm that maintains one population and accepts one set operators (including one evaluator, one selector, and one variator). These characteristics can be customised.\n",
    "\n",
    "<center>\n",
    "<img src='media/emperor.svg' style='width: 35em'></img>\n",
    "</center>\n",
    "\n",
    "\n",
    "See the following table for guides on how to define individual operators:\n",
    "\n",
    "| Component  | Guide                                          |\n",
    "|------------|------------------------------------------------|\n",
    "|`Individual`|[OneMax tutorial](./onemax.ipynb#Representation)|\n",
    "|`Evaluator`|[Selector tutorial](./onemax.ipynb#Evaluator)|\n",
    "|`Selector`|[OneMax tutorial](./selector.ipynb)|\n",
    "|`Variator`|[OneMax tutorial](./onemax.ipynb#Variator)|"
   ]
  },
  {
   "cell_type": "markdown",
   "metadata": {},
   "source": [
    "## Manual Selection\n",
    "\n",
    "The algorithm automates the training of evolutionary algorithms. To understand the process, it is best to train an algorithm by hand.\n",
    "\n",
    "Skip to [Designing the Algorithm](#Designing-the-Algorithm) for how an algorithm is defined."
   ]
  },
  {
   "cell_type": "markdown",
   "metadata": {},
   "source": [
    "### Initialise Population\n",
    "\n",
    "The evolutionary process acts not on individuals, but populations.\n",
    "\n",
    "To begin, create the initial `Population` of bit string representations. Check that the individuals are correctly initialised. A population in EvoKit essentially behaves like a `list`."
   ]
  },
  {
   "cell_type": "code",
   "execution_count": 23,
   "metadata": {},
   "outputs": [],
   "source": [
    "from evokit.core import Population\n",
    "from evokit.evolvables.binstring import BinaryString"
   ]
  },
  {
   "cell_type": "code",
   "execution_count": 24,
   "metadata": {},
   "outputs": [
    {
     "name": "stdout",
     "output_type": "stream",
     "text": [
      "['[1, 1, 1, 1, 1]', '[1, 1, 1, 1, 0]', '[1, 1, 1, 0, 0]']\n"
     ]
    }
   ],
   "source": [
    "pop : Population[BinaryString] = Population[BinaryString]()\n",
    "\n",
    "pop.append(BinaryString(int('11111', 2), 5))\n",
    "pop.append(BinaryString(int('11110', 2), 5))\n",
    "pop.append(BinaryString(int('11100', 2), 5))\n",
    "\n",
    "print(pop)"
   ]
  },
  {
   "cell_type": "markdown",
   "metadata": {},
   "source": [
    "The `.fitness` attribute of an individual stores its fitness. For new individuals, this attribute is uninitialised and accessing it raises an error.\n",
    "\n",
    "To check if the `.fitness` is initialised, call `.has_fitness`."
   ]
  },
  {
   "cell_type": "code",
   "execution_count": 25,
   "metadata": {},
   "outputs": [
    {
     "name": "stdout",
     "output_type": "stream",
     "text": [
      "An ValueError is raised, with message \"Fitness is accessed but null.\n",
      "   Call `.has_fitness` to check if the fitness is defined.\"\n",
      "It is _False_ that the fitness of `pop[0]` is defined.\n"
     ]
    }
   ],
   "source": [
    "try:\n",
    "    pop[0].fitness\n",
    "except ValueError as e:\n",
    "    print(f\"An {type(e).__name__} is raised, with message \\\"{e}\\\"\")\n",
    "\n",
    "print(f\"It is _{pop[0].has_fitness()}_ that the fitness of `pop[0]` is defined.\") "
   ]
  },
  {
   "cell_type": "markdown",
   "metadata": {},
   "source": [
    "### Variate\n",
    "\n",
    "A variator creates new individuals (offspring) from existing individuals. A mutator, in particular, is a variator that uses only one parent. All variators in EvoKit must ensure that operations performed on offspring do not affect the parent.\n",
    "\n",
    "The canonical mutator (`MutateBits`) for bit strings flips each digit with probability `mutation_rate`. Applying the mutator to the population creates a new population."
   ]
  },
  {
   "cell_type": "code",
   "execution_count": 26,
   "metadata": {},
   "outputs": [
    {
     "name": "stdout",
     "output_type": "stream",
     "text": [
      "Parent:    ['[1, 1, 1, 1, 1]', '[1, 1, 1, 1, 0]', '[1, 1, 1, 0, 0]']\n",
      "Offspring: ['[1, 1, 1, 1, 1]', '[1, 1, 1, 1, 0]', '[0, 1, 1, 0, 1]']\n"
     ]
    }
   ],
   "source": [
    "from evokit.evolvables.binstring import MutateBits\n",
    "variator = MutateBits(mutation_rate=0.1)\n",
    "\n",
    "offspring = variator.vary_population(pop)\n",
    "print (f\"Parent:    {pop}\")\n",
    "print (f\"Offspring: {offspring}\")"
   ]
  },
  {
   "cell_type": "markdown",
   "metadata": {},
   "source": [
    "### Evaluate\n",
    "\n",
    "The evaluator assigns to the `.fitness` of all individuals in a population.\n",
    "\n",
    "Evaluation sets the stage for selection. Consider which population the algorithm selects from: using $(\\mu+\\lambda)$, offspring competes with parents for selection. To implement this, call `Population.join` to create a population that includes individuals from `pop` and `offspring`."
   ]
  },
  {
   "cell_type": "code",
   "execution_count": 27,
   "metadata": {},
   "outputs": [],
   "source": [
    "joined_pool = pop.join(offspring)"
   ]
  },
  {
   "cell_type": "markdown",
   "metadata": {},
   "source": [
    "The canonical evaluator (`CountBits`) for bit strings sums all digits in the string. Once the evaluator is initialised, call `.evaluate_population` with the population as argument. Check that all individuals in the population are correctly evaluated.\n",
    "\n",
    "Note:  unlike its counterparts `Variator.vary_population` and `Selector.select_population`, `.evaluate_population` does not return a value but rather modifies an attribute of its argument. To prevent any misunderstanding, `.evaluate_population` explicitly returns `None`."
   ]
  },
  {
   "cell_type": "code",
   "execution_count": 28,
   "metadata": {},
   "outputs": [
    {
     "name": "stdout",
     "output_type": "stream",
     "text": [
      "Fitness of [1, 1, 1, 1, 1] is (5,)\n",
      "Fitness of [1, 1, 1, 1, 0] is (4,)\n",
      "Fitness of [1, 1, 1, 0, 0] is (3,)\n",
      "Fitness of [1, 1, 1, 1, 1] is (5,)\n",
      "Fitness of [1, 1, 1, 1, 0] is (4,)\n",
      "Fitness of [0, 1, 1, 0, 1] is (3,)\n"
     ]
    }
   ],
   "source": [
    "from evokit.evolvables.binstring import CountBits\n",
    "\n",
    "CountBits().evaluate_population(joined_pool)\n",
    "\n",
    "for individual in joined_pool:\n",
    "    print(f\"Fitness of {individual} is {individual.fitness}\")"
   ]
  },
  {
   "cell_type": "markdown",
   "metadata": {},
   "source": [
    "### Select\n",
    "\n",
    "A selector selects from a `Population` into a strict subset. The `TruncationSelector`, in particular, selects individuals with the highest `.fitness`.\n",
    "\n"
   ]
  },
  {
   "cell_type": "code",
   "execution_count": 29,
   "metadata": {},
   "outputs": [
    {
     "name": "stdout",
     "output_type": "stream",
     "text": [
      "From ['[1, 1, 1, 1, 1]', '[1, 1, 1, 1, 0]', '[1, 1, 1, 0, 0]', '[1, 1, 1, 1, 1]', '[1, 1, 1, 1, 0]', '[0, 1, 1, 0, 1]'], the truncation selector\n",
      "    selects ['[1, 1, 1, 1, 0]', '[1, 1, 1, 1, 1]', '[1, 1, 1, 1, 1]'].\n"
     ]
    }
   ],
   "source": [
    "from evokit.evolvables.selectors import TruncationSelector\n",
    "\n",
    "new_pop = TruncationSelector(budget=3).select_population(joined_pool)\n",
    "print(f\"From {joined_pool}, the truncation selector\\n\"\n",
    "      f\"    selects {new_pop}.\")"
   ]
  },
  {
   "cell_type": "markdown",
   "metadata": {},
   "source": [
    "## Designing the Algorithm\n",
    "\n",
    "Time to automate! To implement a custom algorithm, extend `Algorithm` and override at least two of its methods:\n",
    "\n",
    "* `.__init__` initialises parameters of the algorithm itself. In this example, it accepts the initial population and a minimal set of operators.\n",
    "\n",
    "* `.step` performs one iteration."
   ]
  },
  {
   "cell_type": "code",
   "execution_count": 30,
   "metadata": {},
   "outputs": [],
   "source": [
    "from evokit.core import Algorithm\n",
    "from typing import override\n",
    "\n",
    "from evokit.core import Evaluator, Selector, Variator\n",
    "\n",
    "class SimpleMuPlusLambda(Algorithm):\n",
    "\n",
    "    @override\n",
    "    def __init__(self,\n",
    "                 population: Population[BinaryString],\n",
    "                 evaluator: Evaluator[BinaryString],\n",
    "                 selector: Selector[BinaryString],\n",
    "                 variator: Variator[BinaryString]) -> None:\n",
    "        self.population = population\n",
    "        self.evaluator = evaluator\n",
    "        self.selector = selector\n",
    "        self.variator = variator\n",
    "\n",
    "    @override\n",
    "    def step(self) -> None:\n",
    "        self.population = self.population.join(\n",
    "            self.variator.vary_population(self.population))\n",
    "\n",
    "        self.evaluator.evaluate_population(self.population)\n",
    "\n",
    "        self.population = \\\n",
    "            self.selector.select_population(self.population)"
   ]
  },
  {
   "cell_type": "markdown",
   "metadata": {},
   "source": [
    "The creation of individuals can also be automated. For example, `BinaryString.random` creates random binary strings of a given length. Take advantage of this to create a initial population."
   ]
  },
  {
   "cell_type": "code",
   "execution_count": 31,
   "metadata": {},
   "outputs": [
    {
     "name": "stdout",
     "output_type": "stream",
     "text": [
      "Initial population: ['[1, 0, 0, 1, 1]', '[1, 0, 0, 0, 1]', '[0, 1, 1, 1, 0]']\n"
     ]
    }
   ],
   "source": [
    "another_pop = Population(*(BinaryString.random(size=5)\n",
    "                                       for _ in range(3)))\n",
    "\n",
    "print(f\"Initial population: {another_pop}\")"
   ]
  },
  {
   "cell_type": "markdown",
   "metadata": {},
   "source": [
    "Initialise an algorithm with `another_pop` as its initial population, using operators mentioned above."
   ]
  },
  {
   "cell_type": "code",
   "execution_count": 32,
   "metadata": {},
   "outputs": [],
   "source": [
    "ctrl = SimpleMuPlusLambda(another_pop,\n",
    "                        CountBits(),\n",
    "                        TruncationSelector(budget=3),\n",
    "                        MutateBits(mutation_rate=0.1))"
   ]
  },
  {
   "cell_type": "markdown",
   "metadata": {},
   "source": [
    "Run the algorithm. Observe an increase in fitness across generations: the algorithm runs correctly!"
   ]
  },
  {
   "cell_type": "code",
   "execution_count": 33,
   "metadata": {},
   "outputs": [
    {
     "name": "stdout",
     "output_type": "stream",
     "text": [
      "Current population: ['[1, 0, 0, 1, 1]', '[0, 1, 1, 1, 0]', '[1, 1, 1, 1, 1]']\n",
      "Current fitnesses: [(3,), (3,), (5,)]\n",
      "Current population: ['[0, 1, 1, 1, 1]', '[1, 1, 1, 0, 1]', '[1, 1, 1, 1, 1]']\n",
      "Current fitnesses: [(4,), (4,), (5,)]\n",
      "Current population: ['[1, 1, 1, 0, 1]', '[1, 1, 1, 1, 1]', '[1, 1, 1, 1, 1]']\n",
      "Current fitnesses: [(4,), (5,), (5,)]\n",
      "Current population: ['[1, 1, 1, 1, 1]', '[1, 1, 1, 1, 1]', '[1, 1, 1, 1, 1]']\n",
      "Current fitnesses: [(5,), (5,), (5,)]\n",
      "Current population: ['[1, 1, 1, 1, 1]', '[1, 1, 1, 1, 1]', '[1, 1, 1, 1, 1]']\n",
      "Current fitnesses: [(5,), (5,), (5,)]\n",
      "Current population: ['[1, 1, 1, 1, 1]', '[1, 1, 1, 1, 1]', '[1, 1, 1, 1, 1]']\n",
      "Current fitnesses: [(5,), (5,), (5,)]\n",
      "Current population: ['[1, 1, 1, 1, 1]', '[1, 1, 1, 1, 1]', '[1, 1, 1, 1, 1]']\n",
      "Current fitnesses: [(5,), (5,), (5,)]\n",
      "Current population: ['[1, 1, 1, 1, 1]', '[1, 1, 1, 1, 1]', '[1, 1, 1, 1, 1]']\n",
      "Current fitnesses: [(5,), (5,), (5,)]\n",
      "Current population: ['[1, 1, 1, 1, 1]', '[1, 1, 1, 1, 1]', '[1, 1, 1, 1, 1]']\n",
      "Current fitnesses: [(5,), (5,), (5,)]\n",
      "Current population: ['[1, 1, 1, 1, 1]', '[1, 1, 1, 1, 1]', '[1, 1, 1, 1, 1]']\n",
      "Current fitnesses: [(5,), (5,), (5,)]\n"
     ]
    }
   ],
   "source": [
    "for _ in range (10):\n",
    "    ctrl.step()\n",
    "    print(f\"Current population: {ctrl.population}\")\n",
    "    print(f\"Current fitnesses: {[ind.fitness for ind in ctrl.population]}\")"
   ]
  }
 ],
 "metadata": {
  "kernelspec": {
   "display_name": "Python 3",
   "language": "python",
   "name": "python3"
  },
  "language_info": {
   "codemirror_mode": {
    "name": "ipython",
    "version": 3
   },
   "file_extension": ".py",
   "mimetype": "text/x-python",
   "name": "python",
   "nbconvert_exporter": "python",
   "pygments_lexer": "ipython3",
   "version": "3.12.0"
  }
 },
 "nbformat": 4,
 "nbformat_minor": 2
}
