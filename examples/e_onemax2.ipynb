{
 "cells": [
  {
   "cell_type": "markdown",
   "metadata": {},
   "source": [
    "# OneMax Example\n",
    "\n",
    "This tutorial explains how to implement custom representations, using `evokit.evolvables.binstring` as example."
   ]
  },
  {
   "cell_type": "code",
   "execution_count": 9,
   "metadata": {},
   "outputs": [],
   "source": [
    "from __future__ import annotations\n",
    "import os\n",
    "import sys\n",
    "nb_dir = os.path.abspath(os.path.join('..', '..', '..'))\n",
    "if nb_dir not in sys.path:\n",
    "    sys.path.append(nb_dir)"
   ]
  },
  {
   "cell_type": "markdown",
   "metadata": {},
   "source": [
    "To begin, implement a custom representation. All custom representations must derive `evokit.core.population.Individual`, store the genotype in `Individual.genome`, and override `Individual.copy`.\n",
    "\n",
    "The implementation decides how to create new individuals. Here, this capability is implemented as `BinaryString.random`, which creates a random bit string of a certain length."
   ]
  },
  {
   "cell_type": "code",
   "execution_count": 55,
   "metadata": {},
   "outputs": [],
   "source": [
    "from __future__ import annotations\n",
    "\n",
    "import typing\n",
    "from typing import Optional, Tuple, TypeVar, List\n",
    "\n",
    "from ..core import LinearController\n",
    "from ..core import Evaluator\n",
    "from ..core import Individual, Population\n",
    "from ..core import Elitist, SimpleSelector, NullSelector\n",
    "from ..core import Variator\n",
    "\n",
    "from typing import Self, Any, Sequence\n",
    "\n",
    "\n",
    "from random import getrandbits\n",
    "from random import random\n",
    "\n",
    "\n",
    "T = TypeVar('T', bound=Individual)\n",
    "\n",
    "\n",
    "class BinaryString(Individual[List[int]]):\n",
    "    \"\"\"A string of bits.\n",
    "    \"\"\"\n",
    "    def __init__(self, value: int, size: int) -> None:\n",
    "        \"\"\"\n",
    "        Args:\n",
    "            value: integer whose binary representation is used\n",
    "\n",
    "            size: length of the binary string\n",
    "        \"\"\"\n",
    "        # TODO better way to denote ``value``?\n",
    "        self.genome: int = value\n",
    "        self.size: int = size\n",
    "\n",
    "    @staticmethod\n",
    "    def random(size: int) -> BinaryString:\n",
    "        \"\"\"Generate a random binary string.\n",
    "\n",
    "        With :meth:`random.getrandbits`, generate a binary string of the\n",
    "        given size.\n",
    "\n",
    "        Args:\n",
    "            size: size of the generated binary string.\n",
    "        \"\"\"\n",
    "        return BinaryString(\n",
    "            getrandbits(size),\n",
    "            size\n",
    "        )\n",
    "\n",
    "    def copy(self: Self) -> Self:\n",
    "        \"\"\"Create a deep copy of this object.\n",
    "\n",
    "        With :meth:`random.getrandbits`, generate a binary string of the\n",
    "        given size.\n",
    "\n",
    "        Args:\n",
    "            size: size of the generated binary string.\n",
    "        \"\"\"\n",
    "        return type(self)(self.genome, self.size)\n",
    "\n",
    "    def get(self: Self, pos: int) -> int:\n",
    "        self._assert_pos_out_of_bound(pos)\n",
    "        return (self.genome >> pos) & 1\n",
    "\n",
    "    def set(self: Self, pos: int) -> None:\n",
    "        self._assert_pos_out_of_bound(pos)\n",
    "        self.genome |= 1 << pos\n",
    "        \n",
    "    def unset(self: Self, pos: int) -> None:\n",
    "        self._assert_pos_out_of_bound(pos)\n",
    "        self.genome &= ~(1<<pos)\n",
    "\n",
    "    def flip(self: Self, pos: int) -> None:\n",
    "        self._assert_pos_out_of_bound(pos)\n",
    "        self.genome ^= 1<<pos\n",
    "\n",
    "    def __str__(self: Self) -> str:\n",
    "        size: int = self.size\n",
    "        return str((size * [0] +\n",
    "                [int(digit) for digit in bin(self.genome)[2:]])[-size:])\n",
    "    \n",
    "    def _assert_pos_out_of_bound(self: Self, pos: int)-> None:\n",
    "        if pos > self.size - 1:\n",
    "            raise IndexError(f\"Index {pos} is out of bound for a binary\"\n",
    "                             f\"string of length {self.size}\")\n",
    "\n",
    "\n",
    "class BitDistanceEvaluator(Evaluator[BinaryString]):\n",
    "    def evaluate(self, s1: BinaryString) -> float:\n",
    "        return sum(s1.genome)\n",
    "\n",
    "\n",
    "class NullEvaluator(Evaluator):\n",
    "    def evaluate(self, s1: Any) -> float:\n",
    "        return 0\n",
    "\n",
    "\n",
    "class RandomBitMutator(Variator[BinaryString]):\n",
    "    def __init__(self, mutation_rate: float):\n",
    "        if (mutation_rate < 0 or mutation_rate > 1):\n",
    "            raise ValueError(f\"Mutation rate must be within {0} and {1}.\"\n",
    "                             f\"Got: {mutation_rate}\")\n",
    "        self.mutation_rate = mutation_rate\n",
    "\n",
    "    def vary(self, parents: Sequence[BinaryString]) -> Tuple[BinaryString, ...]:\n",
    "        offspring = parents[0].copy()\n",
    "\n",
    "        for i in range(0, len(offspring.genome)):\n",
    "            if (random() < self.mutation_rate):\n",
    "                offspring.genome[i] = 1 if offspring.genome[i] == 0 else 1\n",
    "\n",
    "        return (offspring,)\n",
    "\n",
    "\n",
    "if __name__ == \"__main__\":\n",
    "    BINSTRING_LENGTH: int = 1000\n",
    "    POPULATION_SIZE: int = 20\n",
    "    GENERATION_COUNT: int = 100\n",
    "    init_pop = Population[BinaryString]()\n",
    "\n",
    "    for i in range(0, POPULATION_SIZE):\n",
    "        init_pop.append(BinaryString.random(BINSTRING_LENGTH))\n",
    "\n",
    "    evaluator = BitDistanceEvaluator()\n",
    "    pselector = Elitist(SimpleSelector[BinaryString](10))\n",
    "    cselector = Elitist(SimpleSelector[BinaryString](10))\n",
    "    variator = RandomBitMutator(0.1)\n",
    "\n",
    "    ctrl: LinearController = LinearController(\n",
    "        population=init_pop,\n",
    "        parent_evaluator=NullEvaluator(),\n",
    "        parent_selector=NullSelector(),\n",
    "        variator=variator,\n",
    "        survivor_evaluator=evaluator,\n",
    "        survivor_selector=cselector,\n",
    "    )\n",
    "\n",
    "    dicts: typing.Dict[int, Optional[float]] = {}\n",
    "\n",
    "    # from core.accountant import Accountant\n",
    "\n",
    "    # Ignore type checking. Because `Accountant` is defined for the\n",
    "    #       `Controller` class, which does not necessarily have one\n",
    "    #       `population`, type checkers report error on this line.\\\n",
    "    # Because an LinearController is registered with this `Accountant`,\n",
    "    #       we can be _somewhat_ sure that the accountant's suject has\n",
    "    #       a `.population`.\n",
    "    #\n",
    "    # acc = Accountant({\"GENERATION_BEGIN\": lambda x: len(x.population)})  # type:ignore\n",
    "\n",
    "    # ctrl.register(acc)\n",
    "\n",
    "    for i in range(GENERATION_COUNT):\n",
    "        ctrl.step()\n",
    "        dicts[i] = ctrl.population[0].fitness\n",
    "\n",
    "    print(dicts)\n",
    "\n",
    "    # print(acc.publish())\n"
   ]
  },
  {
   "cell_type": "code",
   "execution_count": 67,
   "metadata": {},
   "outputs": [
    {
     "name": "stdout",
     "output_type": "stream",
     "text": [
      "[1, 1, 1, 1, 1, 1, 0, 1, 1, 0] 0b1111110110\n",
      "[0, 1, 1, 1, 1, 1, 0, 1, 1, 0] 0b111110110\n"
     ]
    }
   ],
   "source": [
    "A = BinaryString.random(10)\n",
    "print(str(A), bin(A.genome))\n",
    "A.flip(9)\n",
    "print(str(A), bin(A.genome))"
   ]
  },
  {
   "cell_type": "markdown",
   "metadata": {},
   "source": [
    "Then, implement a custom evaluator. All custom evaluators must derive `evokit.core.evaluator.Evaluator` and override `Evaluator.evaluate`.\n",
    "\n",
    "Here, `BitDistanceEvaluator` sums all bits in the genotype of a `BinaryString`."
   ]
  },
  {
   "cell_type": "code",
   "execution_count": 9,
   "metadata": {},
   "outputs": [],
   "source": [
    "from evokit.core.evaluator import Evaluator\n",
    "from typing import override\n",
    "\n",
    "class BitDistanceEvaluator(Evaluator[BinaryString]):\n",
    "    @override\n",
    "    def evaluate(self, s1: BinaryString) -> float:\n",
    "        return sum(s1.genome)"
   ]
  },
  {
   "cell_type": "markdown",
   "metadata": {},
   "source": [
    "Then, implement a custom variator. All variators must derive `evokit.core.variator.Variator` and override `Variator.vary`.\n",
    "\n",
    "This variator has `arity=1`, means that it only takes one parent. Consequently, its `vary` method can expect a tuple of size 1. As a courtesy to users, the variator should also declares its `coarity` - the number of offspring produced from parents - but this is not enforced.\n",
    "\n",
    "Note that the `coarity` of an operator may not always indicate its actual behaviour. Operators may be dynamically modified - such as with the `Elitist` interceptor - to produce a different number of offspring."
   ]
  },
  {
   "cell_type": "code",
   "execution_count": 14,
   "metadata": {},
   "outputs": [],
   "source": [
    "from random import random\n",
    "from typing import Sequence, Tuple\n",
    "\n",
    "from evokit.core.variator import Variator\n",
    "\n",
    "class RandomBitMutator(Variator[BinaryString]):\n",
    "    def __init__(self, mutation_rate: float):\n",
    "        self.arity = 1\n",
    "        self.coarity = 2\n",
    "        if (mutation_rate < 0 or mutation_rate > 1):\n",
    "            raise ValueError(f\"Mutation rate must be within {0} and {1}.\"\n",
    "                             f\"Got: {mutation_rate}\")\n",
    "        self.mutation_rate = mutation_rate\n",
    "\n",
    "    def vary(self, parents: Sequence[BinaryString]) -> Tuple[BinaryString, ...]:\n",
    "        offspring = parents[0].copy()\n",
    "\n",
    "        for i in range(0, len(offspring.genome)):\n",
    "            if (random() < self.mutation_rate):\n",
    "                offspring.genome[i] = 1 if offspring.genome[i] == 0 else 1\n",
    "\n",
    "        return (offspring,)"
   ]
  },
  {
   "cell_type": "markdown",
   "metadata": {},
   "source": [
    "Design the learning algorithm. Since selectors and the algorithm do not depend on representations, the framework comes with generic ones that should work with all representations. Import a selector and an algorithm from `evokit.core.selector` and `evokit.core.controller` respectively."
   ]
  },
  {
   "cell_type": "code",
   "execution_count": 15,
   "metadata": {},
   "outputs": [],
   "source": [
    "from evokit.core.selector import Elitist, SimpleSelector\n",
    "\n",
    "from evokit.core.controller import SimpleLinearController"
   ]
  },
  {
   "cell_type": "markdown",
   "metadata": {},
   "source": [
    "Initialise the population. Create a number of `BinaryString` instances, then store then in a `Population`."
   ]
  },
  {
   "cell_type": "code",
   "execution_count": 16,
   "metadata": {},
   "outputs": [],
   "source": [
    "from evokit.core.population import Population\n",
    "\n",
    "BINSTRING_LENGTH: int = 1000\n",
    "POPULATION_SIZE: int = 20\n",
    "GENERATION_COUNT: int = 100\n",
    "init_pop = Population[BinaryString]()\n",
    "\n",
    "for i in range(0, POPULATION_SIZE):\n",
    "    init_pop.append(BinaryString.random(BINSTRING_LENGTH))"
   ]
  },
  {
   "cell_type": "markdown",
   "metadata": {},
   "source": [
    "Initialise operators, then run the algorithm with these operators."
   ]
  },
  {
   "cell_type": "code",
   "execution_count": 18,
   "metadata": {},
   "outputs": [],
   "source": [
    "ctrl: SimpleLinearController = SimpleLinearController(\n",
    "    population=init_pop,\n",
    "    variator=RandomBitMutator(0.1),\n",
    "    selector=Elitist(SimpleSelector[BinaryString](POPULATION_SIZE)),\n",
    "    evaluator = BitDistanceEvaluator()\n",
    ")"
   ]
  },
  {
   "cell_type": "markdown",
   "metadata": {},
   "source": [
    "Run the algorithm, then retain the best individual of each generation. Remember to call `copy`, so that subsequent modifications on the individual do not affect the retained copy."
   ]
  },
  {
   "cell_type": "code",
   "execution_count": 19,
   "metadata": {},
   "outputs": [],
   "source": [
    "bests = []\n",
    "\n",
    "for _ in range(GENERATION_COUNT):\n",
    "    ctrl.step()\n",
    "    bests.append(ctrl.population[0])"
   ]
  },
  {
   "cell_type": "markdown",
   "metadata": {},
   "source": [
    "Print best individuals of the first and last generations. Note the that the latter has significantly higher fitness."
   ]
  },
  {
   "cell_type": "code",
   "execution_count": 24,
   "metadata": {},
   "outputs": [
    {
     "name": "stdout",
     "output_type": "stream",
     "text": [
      "Best individual of the first generation is [1, 0, 1, 0, 0, 1, 0, 1, 1, 1, 0, 1, 1, 0, 1, 0, 1, 1, 1, 1, 1, 0, 1, 1, 1, 1, 0, 0, 0, 1, 0, 1, 1, 1, 0, 1, 0, 0, 0, 1, 0, 1, 1, 1, 1, 1, 0, 0, 0, 1, 1, 1, 0, 1, 1, 1, 0, 0, 1, 1, 1, 1, 0, 1, 1, 1, 0, 1, 1, 1, 0, 1, 0, 1, 1, 1, 0, 0, 1, 0, 1, 1, 1, 1, 1, 0, 1, 1, 1, 0, 1, 0, 1, 1, 1, 1, 0, 0, 0, 1, 1, 1, 1, 1, 1, 1, 1, 1, 1, 1, 1, 1, 1, 1, 0, 0, 0, 0, 1, 1, 1, 0, 0, 0, 1, 1, 1, 0, 0, 0, 1, 0, 1, 1, 1, 1, 1, 1, 0, 1, 0, 1, 0, 1, 0, 0, 0, 1, 0, 1, 1, 0, 1, 1, 1, 1, 1, 0, 1, 0, 1, 1, 1, 1, 1, 0, 0, 1, 1, 0, 1, 0, 0, 1, 0, 1, 1, 1, 1, 1, 0, 1, 0, 0, 1, 0, 1, 0, 0, 1, 1, 0, 0, 0, 1, 1, 1, 1, 0, 1, 1, 0, 1, 1, 0, 0, 1, 0, 0, 1, 1, 0, 1, 0, 0, 1, 1, 1, 0, 1, 1, 0, 1, 0, 1, 0, 0, 0, 0, 1, 0, 1, 1, 0, 1, 1, 0, 1, 1, 0, 0, 1, 1, 0, 1, 1, 1, 1, 1, 1, 1, 1, 1, 1, 1, 0, 0, 0, 0, 1, 1, 0, 0, 1, 0, 1, 1, 0, 0, 1, 1, 0, 1, 0, 1, 1, 1, 0, 1, 1, 0, 1, 1, 0, 1, 1, 0, 1, 1, 0, 0, 1, 0, 0, 1, 0, 1, 1, 1, 0, 1, 1, 1, 0, 0, 0, 1, 0, 0, 1, 0, 0, 0, 1, 0, 0, 1, 1, 1, 1, 1, 1, 1, 0, 1, 0, 1, 1, 1, 1, 0, 1, 1, 0, 1, 1, 1, 0, 0, 0, 1, 0, 0, 0, 1, 0, 1, 1, 1, 1, 1, 0, 0, 0, 0, 0, 1, 1, 0, 1, 0, 1, 0, 0, 1, 1, 0, 0, 0, 0, 0, 0, 0, 1, 1, 1, 1, 1, 0, 1, 1, 1, 1, 1, 0, 1, 1, 0, 1, 1, 0, 0, 1, 0, 0, 0, 1, 1, 0, 0, 1, 0, 0, 1, 0, 1, 1, 0, 0, 1, 0, 1, 1, 1, 1, 0, 1, 1, 0, 0, 0, 1, 1, 1, 1, 0, 1, 0, 0, 1, 0, 1, 1, 0, 0, 0, 1, 1, 1, 1, 0, 1, 0, 0, 1, 1, 1, 1, 0, 1, 1, 0, 1, 0, 0, 1, 1, 0, 0, 0, 0, 1, 1, 0, 0, 1, 1, 0, 0, 1, 1, 1, 0, 0, 0, 0, 0, 1, 0, 1, 1, 1, 1, 0, 0, 1, 1, 0, 0, 1, 1, 0, 1, 0, 1, 1, 0, 0, 0, 0, 1, 1, 0, 0, 1, 0, 0, 0, 0, 1, 1, 0, 1, 1, 0, 1, 1, 0, 1, 1, 0, 1, 1, 1, 0, 1, 1, 0, 0, 0, 1, 1, 0, 1, 1, 1, 1, 0, 0, 1, 0, 0, 0, 1, 0, 0, 0, 0, 1, 0, 1, 0, 1, 1, 1, 0, 1, 1, 1, 0, 0, 0, 1, 0, 0, 1, 0, 1, 1, 1, 0, 1, 0, 1, 0, 1, 0, 0, 0, 1, 0, 0, 0, 0, 1, 1, 1, 0, 0, 0, 1, 1, 0, 0, 1, 0, 1, 0, 0, 1, 0, 1, 1, 1, 1, 0, 0, 1, 1, 0, 1, 1, 0, 0, 1, 0, 0, 1, 0, 1, 1, 0, 0, 0, 1, 0, 1, 0, 1, 1, 0, 1, 1, 0, 1, 0, 1, 0, 1, 0, 0, 0, 0, 0, 0, 1, 1, 0, 0, 1, 1, 0, 0, 1, 1, 0, 1, 1, 1, 1, 1, 1, 0, 0, 1, 1, 0, 0, 0, 1, 0, 1, 1, 1, 1, 1, 1, 0, 1, 1, 1, 1, 1, 1, 0, 1, 0, 0, 1, 0, 0, 1, 1, 1, 0, 0, 0, 1, 0, 1, 1, 0, 1, 1, 1, 0, 0, 1, 0, 1, 1, 1, 0, 0, 1, 0, 0, 0, 1, 0, 1, 1, 1, 1, 1, 0, 0, 1, 0, 0, 1, 0, 0, 1, 1, 1, 1, 1, 0, 1, 1, 1, 1, 0, 0, 0, 0, 1, 0, 1, 1, 1, 1, 1, 1, 0, 0, 1, 0, 1, 0, 1, 1, 0, 1, 1, 0, 1, 0, 0, 1, 0, 1, 1, 1, 0, 1, 0, 1, 1, 0, 0, 1, 0, 1, 1, 1, 1, 1, 1, 1, 1, 1, 0, 1, 0, 1, 0, 1, 0, 1, 1, 1, 1, 0, 1, 0, 0, 1, 1, 0, 1, 1, 0, 1, 1, 1, 1, 1, 1, 1, 1, 1, 0, 1, 1, 0, 1, 0, 0, 1, 1, 1, 1, 0, 0, 1, 0, 1, 0, 1, 0, 0, 1, 1, 1, 0, 0, 1, 0, 0, 1, 1, 1, 0, 1, 1, 1, 0, 1, 1, 0, 0, 1, 1, 0, 1, 1, 1, 0, 0, 0, 0, 1, 1, 1, 0, 1, 1, 1, 1, 1, 0, 1, 0, 1, 0, 0, 0, 1, 0, 0, 0, 0, 0, 1, 0, 0, 0, 0, 1, 1, 0, 1, 1, 0, 1, 1, 1, 1, 1, 1, 0, 0, 1, 0, 0, 1, 1, 0, 0, 1, 0, 1, 1, 1, 0, 1, 0, 0, 0, 0, 1, 1, 1, 0, 0, 1, 1, 0, 1, 1, 0, 1, 0, 1, 0, 1, 1, 1, 0, 1, 1, 1, 1, 1, 1, 1, 1, 1, 1, 1, 1, 1, 1, 0, 1, 0, 1, 1, 1, 0, 1, 1, 0, 0, 1, 1, 1, 1, 1, 0, 0, 1, 1, 0, 1, 1, 0, 0, 0, 0, 0, 1, 0, 1, 1, 0, 0, 1]\n",
      "    with fitness 574\n",
      "Best individual of the last generation is [1, 1, 1, 1, 1, 1, 1, 1, 1, 1, 1, 1, 1, 1, 1, 1, 1, 1, 1, 1, 1, 1, 1, 1, 1, 1, 1, 1, 1, 1, 1, 1, 1, 1, 1, 1, 1, 1, 1, 1, 1, 1, 1, 1, 1, 1, 1, 1, 1, 1, 1, 1, 1, 1, 1, 1, 1, 1, 1, 1, 1, 1, 1, 1, 1, 1, 1, 1, 1, 1, 1, 1, 1, 1, 1, 1, 1, 1, 1, 1, 1, 1, 1, 1, 1, 1, 1, 1, 1, 1, 1, 1, 1, 1, 1, 1, 1, 1, 1, 1, 1, 1, 1, 1, 1, 1, 1, 1, 1, 1, 1, 1, 1, 1, 1, 1, 1, 1, 1, 1, 1, 1, 1, 1, 1, 1, 1, 1, 1, 1, 1, 1, 1, 1, 1, 1, 1, 1, 1, 1, 1, 1, 1, 1, 1, 1, 1, 1, 1, 1, 1, 1, 1, 1, 1, 1, 1, 1, 1, 1, 1, 1, 1, 1, 1, 1, 1, 1, 1, 1, 1, 1, 1, 1, 1, 1, 1, 1, 1, 1, 1, 1, 1, 1, 1, 1, 1, 1, 1, 1, 1, 1, 1, 1, 1, 1, 1, 1, 1, 1, 1, 1, 1, 1, 1, 1, 1, 1, 1, 1, 1, 1, 1, 1, 1, 1, 1, 1, 1, 1, 1, 1, 1, 1, 1, 1, 1, 1, 1, 1, 1, 1, 1, 1, 1, 1, 1, 1, 1, 1, 1, 1, 1, 1, 1, 1, 1, 1, 1, 1, 1, 1, 1, 1, 1, 1, 1, 1, 1, 1, 1, 1, 1, 1, 1, 1, 1, 1, 1, 1, 1, 1, 1, 1, 1, 1, 1, 1, 1, 1, 1, 1, 1, 1, 1, 1, 1, 1, 1, 1, 1, 1, 1, 1, 1, 1, 1, 1, 1, 1, 1, 1, 1, 1, 1, 1, 1, 1, 1, 1, 1, 1, 1, 1, 1, 1, 1, 1, 1, 1, 1, 1, 1, 1, 1, 1, 1, 1, 1, 1, 1, 1, 1, 1, 1, 1, 1, 1, 1, 1, 1, 1, 1, 1, 1, 1, 1, 1, 1, 1, 1, 1, 1, 1, 1, 1, 1, 1, 1, 1, 1, 1, 1, 1, 1, 1, 1, 1, 1, 1, 1, 1, 1, 1, 1, 1, 1, 1, 1, 1, 1, 1, 1, 1, 1, 1, 1, 1, 1, 1, 1, 1, 1, 1, 1, 1, 1, 1, 1, 1, 1, 1, 1, 1, 1, 1, 1, 1, 1, 1, 1, 1, 1, 1, 1, 1, 1, 1, 1, 1, 1, 1, 1, 1, 1, 1, 1, 1, 1, 1, 1, 1, 1, 1, 1, 1, 1, 1, 1, 1, 1, 1, 1, 1, 1, 1, 1, 1, 1, 1, 1, 1, 1, 1, 1, 1, 1, 1, 1, 1, 1, 1, 1, 1, 1, 1, 1, 1, 1, 1, 1, 1, 1, 1, 1, 1, 1, 1, 1, 1, 1, 1, 1, 1, 1, 1, 1, 1, 1, 1, 1, 1, 1, 1, 1, 1, 1, 1, 1, 1, 1, 1, 1, 1, 1, 1, 1, 1, 1, 1, 1, 1, 1, 1, 1, 1, 1, 1, 1, 1, 1, 1, 1, 1, 1, 1, 1, 1, 1, 1, 1, 1, 1, 1, 1, 1, 1, 1, 1, 1, 1, 1, 1, 1, 1, 1, 1, 1, 1, 1, 1, 1, 1, 1, 1, 1, 1, 1, 1, 1, 1, 1, 1, 1, 1, 1, 1, 1, 1, 1, 1, 1, 1, 1, 1, 1, 1, 1, 1, 1, 1, 1, 1, 1, 1, 1, 1, 1, 1, 1, 1, 1, 1, 1, 1, 1, 1, 1, 1, 1, 1, 1, 1, 1, 1, 1, 1, 1, 1, 1, 1, 1, 1, 1, 1, 1, 1, 1, 1, 1, 1, 1, 1, 1, 1, 1, 1, 1, 1, 1, 1, 1, 1, 1, 1, 1, 1, 1, 1, 1, 1, 1, 1, 1, 1, 1, 1, 1, 1, 1, 1, 1, 1, 1, 1, 1, 1, 1, 1, 1, 1, 1, 1, 1, 1, 1, 1, 1, 1, 1, 1, 1, 1, 1, 1, 1, 1, 1, 1, 1, 1, 1, 1, 1, 1, 1, 1, 1, 1, 1, 1, 1, 1, 1, 1, 1, 1, 1, 1, 1, 1, 1, 1, 1, 1, 1, 1, 1, 1, 1, 1, 1, 1, 1, 1, 1, 1, 1, 1, 1, 1, 1, 1, 1, 1, 1, 1, 1, 1, 1, 1, 1, 1, 1, 1, 1, 1, 1, 1, 1, 1, 1, 1, 1, 1, 1, 1, 1, 1, 1, 1, 1, 1, 1, 1, 1, 1, 1, 1, 1, 1, 1, 1, 1, 1, 1, 1, 1, 1, 1, 1, 1, 1, 1, 1, 1, 1, 1, 1, 1, 1, 1, 1, 1, 1, 1, 1, 1, 1, 1, 1, 1, 1, 1, 1, 1, 1, 1, 1, 1, 1, 1, 1, 1, 1, 1, 1, 1, 1, 1, 1, 1, 1, 1, 1, 1, 1, 1, 1, 1, 1, 1, 1, 1, 1, 1, 1, 1, 1, 1, 1, 1, 1, 1, 1, 1, 1, 1, 1, 1, 1, 1, 1, 1, 1, 1, 1, 1, 1, 1, 1, 1, 1, 1, 1, 1, 1, 1, 1, 1, 1, 1, 1, 1, 1, 1, 1, 1, 1, 1, 1, 1, 1, 1, 1, 1, 1, 1, 1, 1, 1, 1, 1, 1, 1, 1, 1, 1, 1, 1, 1, 1, 1, 1, 1, 1, 1, 1, 1, 1, 1, 1, 1, 1, 1, 1, 1, 1, 1, 1, 1, 1, 1, 1, 1, 1, 1, 1, 1, 1, 1, 1, 1, 1, 1, 1, 1, 1, 1, 1, 1, 1, 1, 1, 1, 1, 1, 1, 1, 1, 1, 1, 1, 1, 1, 1, 1, 1, 1, 1, 1, 1, 1, 1, 1, 1, 1, 1, 1, 1, 1, 1, 1, 1, 1, 1, 1, 1, 1, 1, 1, 1, 1, 1, 1, 1, 1, 1, 1, 1, 1, 1, 1, 1, 1, 1, 1, 1, 1, 1, 1, 1, 1, 1, 1, 1, 1, 1, 1, 1]\n",
      "    with fitness 1000\n"
     ]
    }
   ],
   "source": [
    "print(f\"Best individual of the first generation is {bests[0]}\")\n",
    "print(f\"    with fitness {sum(bests[0].genome)}\")\n",
    "print(f\"Best individual of the last generation is {bests[-1]}\")\n",
    "print(f\"    with fitness {sum(bests[-1].genome)}\")"
   ]
  },
  {
   "cell_type": "markdown",
   "metadata": {},
   "source": [
    "Plot the training curve of best individuals:"
   ]
  },
  {
   "cell_type": "code",
   "execution_count": 29,
   "metadata": {},
   "outputs": [
    {
     "data": {
      "image/png": "[encoded data removed]",
      "text/plain": [
       "<Figure size 640x480 with 1 Axes>"
      ]
     },
     "metadata": {},
     "output_type": "display_data"
    }
   ],
   "source": [
    "from matplotlib import pyplot as plt\n",
    "plt.title('Training Curve of the Custom Algorithm')\n",
    "plt.xlabel('Generation')\n",
    "plt.ylabel('Fitness of Best Individual')\n",
    "plt.plot([i for i in range(len(bests))], [sum(x.genome) for x in bests])\n",
    "plt.show()"
   ]
  }
 ],
 "metadata": {
  "kernelspec": {
   "display_name": "Python 3",
   "language": "python",
   "name": "python3"
  },
  "language_info": {
   "codemirror_mode": {
    "name": "ipython",
    "version": 3
   },
   "file_extension": ".py",
   "mimetype": "text/x-python",
   "name": "python",
   "nbconvert_exporter": "python",
   "pygments_lexer": "ipython3",
   "version": "3.12.0"
  }
 },
 "nbformat": 4,
 "nbformat_minor": 2
}
